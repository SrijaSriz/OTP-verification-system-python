{
  "nbformat": 4,
  "nbformat_minor": 0,
  "metadata": {
    "colab": {
      "provenance": []
    },
    "kernelspec": {
      "name": "python3",
      "display_name": "Python 3"
    },
    "language_info": {
      "name": "python"
    }
  },
  "cells": [
    {
      "cell_type": "markdown",
      "source": [
        "# *** OTP Verification System***\n"
      ],
      "metadata": {
        "id": "bGElBzRCjJoz"
      }
    },
    {
      "cell_type": "code",
      "execution_count": 1,
      "metadata": {
        "id": "P2nhcE0kJhVO"
      },
      "outputs": [],
      "source": [
        "import random\n",
        "import re\n",
        "import time\n",
        "from datetime import timedelta,datetime\n",
        "from threading import Thread\n",
        "\n"
      ]
    },
    {
      "cell_type": "markdown",
      "source": [
        "**Implement a function to generate a 6-digit OTP randomly.**"
      ],
      "metadata": {
        "id": "XyI5U1uXi911"
      }
    },
    {
      "cell_type": "code",
      "source": [
        "def generate_otp():\n",
        "  otp = random.randint(100000, 999999)\n",
        "  return otp\n"
      ],
      "metadata": {
        "id": "bclI0pxcJjFj"
      },
      "execution_count": 2,
      "outputs": []
    },
    {
      "cell_type": "markdown",
      "source": [
        "**Develop a function to simulate sending the OTP to the user's email address.**"
      ],
      "metadata": {
        "id": "cFBjDrXAjZvT"
      }
    },
    {
      "cell_type": "code",
      "source": [
        "def send_email(user_email,otp,sender_email=\"no-reply@example.com\"):\n",
        "  print(\"\\n generated EMAIL :\")\n",
        "  print(\"To :\",user_email)\n",
        "  print(\" From  :\",sender_email)\n",
        "  print(\" subject : OTP for verification vaild for 3 minutes\")\n",
        "  print(\"\\n your OTP for verification is : \",otp)\n",
        "\n"
      ],
      "metadata": {
        "id": "aB856DIwJjll"
      },
      "execution_count": 3,
      "outputs": []
    },
    {
      "cell_type": "markdown",
      "source": [
        "**Create a function to prompt the user to enter the OTP received in their email.**"
      ],
      "metadata": {
        "id": "P-KldrTpj7nI"
      }
    },
    {
      "cell_type": "code",
      "source": [
        "def otp_from_user():\n",
        "  return input(\"\\n \\n Enter your OTP : \").strip()\n"
      ],
      "metadata": {
        "id": "H_WCtXwYJj7r"
      },
      "execution_count": 4,
      "outputs": []
    },
    {
      "cell_type": "markdown",
      "source": [
        "**Implement a function to verify if the entered OTP matches the generated OTP.**\n",
        "\n",
        "**Ensure proper error handling and user-friendly prompts throughout the system.**\n",
        "\n",
        "**Allow the user to retry OTP entry in case of incorrect input.**\n",
        "\n"
      ],
      "metadata": {
        "id": "5EADdDa1kJvV"
      }
    },
    {
      "cell_type": "code",
      "source": [
        "def verify_otp(expected_otp, expiry_time, max_attempts=3):\n",
        "    attempts = 0\n",
        "    while attempts < max_attempts:\n",
        "        if datetime.now() > expiry_time:\n",
        "            print(\" OTP has expired. Please request a new one.\")\n",
        "            return False\n",
        "        user_otp = (otp_from_user()).strip()\n",
        "        try:\n",
        "          if not user_otp.isdigit() or len(user_otp) != 6:\n",
        "            print(\"\\n Enter a valid 6-digit OTP\")\n",
        "            continue\n",
        "          user_otp=int(user_otp)\n",
        "        except ValueError:\n",
        "          print(\"Enter your valid integer OTP,Letters not allowed\")\n",
        "          continue\n",
        "        if datetime.now() > expiry_time:\n",
        "            print(\"OTP has expired after entry. Please request a new one.\")\n",
        "            return False\n",
        "\n",
        "        if user_otp == expected_otp:\n",
        "            print(\"\\n OTP Verified. Access Granted.\")\n",
        "            return True\n",
        "        else:\n",
        "            attempts += 1\n",
        "            remaining = max_attempts - attempts\n",
        "            print(f\"\\n Incorrect OTP. {remaining} attempts remaining.\")\n",
        "    print(\" Exceeded maximum attempts. Access Denied.\")\n",
        "    return False\n",
        "\n",
        "\n",
        "\n",
        "\n",
        "\n"
      ],
      "metadata": {
        "id": "98itb4t9Mou4"
      },
      "execution_count": 5,
      "outputs": []
    },
    {
      "cell_type": "markdown",
      "source": [
        "**Displaying timer for expiry.**"
      ],
      "metadata": {
        "id": "-7iMvThFIOV9"
      }
    },
    {
      "cell_type": "code",
      "source": [
        "def countdown_timer(expiry_time):\n",
        "    while True:\n",
        "        remaining = expiry_time - datetime.now()\n",
        "        if remaining.total_seconds() <= 0:\n",
        "            print(\"\\r OTP has expired!\\n \")\n",
        "            break\n",
        "        mins, secs = divmod(int(remaining.total_seconds()), 60)\n",
        "        print(f\"\\r Time remaining: {mins:02d}:{secs:02d}\", end=\"\")\n",
        "        time.sleep(1)"
      ],
      "metadata": {
        "id": "kCNQz5hbINDx"
      },
      "execution_count": 6,
      "outputs": []
    },
    {
      "cell_type": "markdown",
      "source": [
        "**Email pattern validation.**"
      ],
      "metadata": {
        "id": "ia5upB-1kYfr"
      }
    },
    {
      "cell_type": "code",
      "source": [
        "def validate_email(user_email):\n",
        "  pattern = r'^[\\w\\.-]+@[\\w\\.-]+\\.[a-zA-Z]{2,}$'\n",
        "  if re.match(pattern,user_email):\n",
        "    return True\n",
        "  else:\n",
        "    return False"
      ],
      "metadata": {
        "id": "DAxVdy0bJkt8"
      },
      "execution_count": 7,
      "outputs": []
    },
    {
      "cell_type": "markdown",
      "source": [
        "**Main code for OTP verification and validation.**"
      ],
      "metadata": {
        "id": "PvOo058ylE3q"
      }
    },
    {
      "cell_type": "code",
      "source": [
        "def otp_verification_system():\n",
        "    max_regen = 2\n",
        "    regeneration_count = 0\n",
        "    email = \"\"\n",
        "\n",
        "    while not validate_email(email):\n",
        "        email = input(\"Enter your email address: \").strip()\n",
        "        if not validate_email(email):\n",
        "            print(\" Invalid email format. Please try again.\")\n",
        "\n",
        "    while regeneration_count <= max_regen:\n",
        "        otp = generate_otp()\n",
        "        expiry_time = datetime.now() + timedelta(minutes=3)\n",
        "\n",
        "        send_email(email, otp)\n",
        "        print(f\"\\nStarting 3-minute OTP timer... (Regeneration left: {max_regen - regeneration_count})\\n\")\n",
        "\n",
        "        timer_thread = Thread(target=countdown_timer, args=(expiry_time,))\n",
        "        timer_thread.start()\n",
        "\n",
        "        verified = verify_otp(otp, expiry_time)\n",
        "        timer_thread.join()\n",
        "        if verified:\n",
        "            break\n",
        "        else:\n",
        "            regeneration_count += 1\n",
        "            if regeneration_count > max_regen:\n",
        "                print(\" You have exceeded the maximum number of OTP regenerations.\")\n",
        "                print(\" Exiting system.\")\n",
        "                break\n",
        "            retry = input(\"Would you like to regenerate a new OTP? (y/n): \").strip().lower()\n",
        "            if retry != 'y':\n",
        "                print(\"\\n Goodbye.\")\n",
        "                break\n",
        "            else:\n",
        "                print(\" Generating new OTP...\\n\")\n"
      ],
      "metadata": {
        "id": "Z4NjVgeICF52"
      },
      "execution_count": 8,
      "outputs": []
    },
    {
      "cell_type": "markdown",
      "source": [
        "**Calling verifaction system**"
      ],
      "metadata": {
        "id": "l1Vzqi1XdYQb"
      }
    },
    {
      "cell_type": "code",
      "source": [
        "otp_verification_system()"
      ],
      "metadata": {
        "colab": {
          "base_uri": "https://localhost:8080/"
        },
        "id": "U_eCjDOpCwOb",
        "outputId": "7c5c9db2-e7da-410c-d6c5-380d7be1cf19"
      },
      "execution_count": null,
      "outputs": [
        {
          "output_type": "stream",
          "name": "stdout",
          "text": [
            " Time remaining: 00:56"
          ]
        }
      ]
    },
    {
      "cell_type": "markdown",
      "source": [],
      "metadata": {
        "id": "08KP85U9bmMT"
      }
    }
  ]
}